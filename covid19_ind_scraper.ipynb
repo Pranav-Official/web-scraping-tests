{
 "cells": [
  {
   "cell_type": "code",
   "execution_count": 54,
   "metadata": {},
   "outputs": [],
   "source": [
    "import requests as req\n",
    "import json"
   ]
  },
  {
   "cell_type": "code",
   "execution_count": 55,
   "metadata": {},
   "outputs": [],
   "source": [
    "data_url = \"https://api.covid19india.org/v4/data.json\""
   ]
  },
  {
   "cell_type": "code",
   "execution_count": 56,
   "metadata": {},
   "outputs": [],
   "source": [
    "res = req.get(data_url)"
   ]
  },
  {
   "cell_type": "code",
   "execution_count": 57,
   "metadata": {},
   "outputs": [],
   "source": [
    "with open('raw_data.json','wb') as file:\n",
    "    file.write(res.content)"
   ]
  },
  {
   "cell_type": "code",
   "execution_count": 58,
   "metadata": {},
   "outputs": [],
   "source": [
    "with open('raw_data.json') as f:\n",
    "    data = json.load(f)"
   ]
  },
  {
   "cell_type": "code",
   "execution_count": 59,
   "metadata": {},
   "outputs": [
    {
     "data": {
      "text/plain": [
       "dict"
      ]
     },
     "execution_count": 59,
     "metadata": {},
     "output_type": "execute_result"
    }
   ],
   "source": [
    "type(data)"
   ]
  },
  {
   "cell_type": "code",
   "execution_count": 60,
   "metadata": {},
   "outputs": [
    {
     "data": {
      "text/plain": [
       "{'confirmed': 11385, 'deceased': 45, 'other': 5, 'recovered': 7158}"
      ]
     },
     "execution_count": 60,
     "metadata": {},
     "output_type": "execute_result"
    }
   ],
   "source": [
    "data[\"KL\"][\"districts\"][\"Thrissur\"]['total']\n"
   ]
  },
  {
   "cell_type": "code",
   "execution_count": 61,
   "metadata": {},
   "outputs": [
    {
     "name": "stdout",
     "output_type": "stream",
     "text": [
      "Alappuzha \n",
      "\n",
      " {'confirmed': 12333, 'deceased': 33, 'other': 8, 'recovered': 8452} \n",
      "\n",
      "\n",
      "Ernakulam \n",
      "\n",
      " {'confirmed': 14858, 'deceased': 59, 'other': 9, 'recovered': 9489} \n",
      "\n",
      "\n",
      "Idukki \n",
      "\n",
      " {'confirmed': 3339, 'deceased': 3, 'other': 2, 'recovered': 2423, 'tested': 80969} \n",
      "\n",
      "\n",
      "Kannur \n",
      "\n",
      " {'confirmed': 9894, 'deceased': 41, 'other': 3, 'recovered': 6198, 'tested': 119426} \n",
      "\n",
      "\n",
      "Kasaragod \n",
      "\n",
      " {'confirmed': 9638, 'deceased': 48, 'other': 3, 'recovered': 7159} \n",
      "\n",
      "\n",
      "Kollam \n",
      "\n",
      " {'confirmed': 11578, 'deceased': 48, 'other': 3, 'recovered': 7164} \n",
      "\n",
      "\n",
      "Kottayam \n",
      "\n",
      " {'confirmed': 9300, 'deceased': 12, 'recovered': 5884} \n",
      "\n",
      "\n",
      "Kozhikode \n",
      "\n",
      " {'confirmed': 15166, 'deceased': 61, 'other': 5, 'recovered': 10099, 'tested': 332739} \n",
      "\n",
      "\n",
      "Malappuram \n",
      "\n",
      " {'confirmed': 19206, 'deceased': 64, 'other': 6, 'recovered': 14663, 'tested': 152736} \n",
      "\n",
      "\n",
      "Palakkad \n",
      "\n",
      " {'confirmed': 9992, 'deceased': 26, 'other': 2, 'recovered': 6787, 'tested': 147872} \n",
      "\n",
      "\n",
      "Pathanamthitta \n",
      "\n",
      " {'confirmed': 6987, 'deceased': 5, 'other': 2, 'recovered': 5150, 'tested': 112114} \n",
      "\n",
      "\n",
      "Thiruvananthapuram \n",
      "\n",
      " {'confirmed': 31220, 'deceased': 207, 'other': 32, 'recovered': 21559} \n",
      "\n",
      "\n",
      "Thrissur \n",
      "\n",
      " {'confirmed': 11385, 'deceased': 45, 'other': 5, 'recovered': 7158} \n",
      "\n",
      "\n",
      "Wayanad \n",
      "\n",
      " {'confirmed': 3044, 'deceased': 5, 'recovered': 2341, 'tested': 84022} \n",
      "\n",
      "\n"
     ]
    }
   ],
   "source": [
    "for dist in data[\"KL\"][\"districts\"]:\n",
    "    print(dist, \"\\n\\n\", data[\"KL\"][\"districts\"][dist]['total'], \"\\n\\n\")"
   ]
  },
  {
   "cell_type": "code",
   "execution_count": null,
   "metadata": {},
   "outputs": [],
   "source": []
  }
 ],
 "metadata": {
  "kernelspec": {
   "display_name": "Python 3",
   "language": "python",
   "name": "python3"
  },
  "language_info": {
   "codemirror_mode": {
    "name": "ipython",
    "version": 3
   },
   "file_extension": ".py",
   "mimetype": "text/x-python",
   "name": "python",
   "nbconvert_exporter": "python",
   "pygments_lexer": "ipython3",
   "version": "3.8.5"
  }
 },
 "nbformat": 4,
 "nbformat_minor": 4
}
