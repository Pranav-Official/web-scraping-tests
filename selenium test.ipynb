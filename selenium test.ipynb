{
 "cells": [
  {
   "cell_type": "code",
   "execution_count": 1,
   "metadata": {},
   "outputs": [],
   "source": [
    "from selenium import webdriver as wd\n",
    "import time"
   ]
  },
  {
   "cell_type": "code",
   "execution_count": 2,
   "metadata": {},
   "outputs": [],
   "source": [
    "from selenium.webdriver.common.keys import Keys"
   ]
  },
  {
   "cell_type": "code",
   "execution_count": 23,
   "metadata": {},
   "outputs": [],
   "source": [
    "from bs4 import BeautifulSoup as bs"
   ]
  },
  {
   "cell_type": "code",
   "execution_count": 54,
   "metadata": {},
   "outputs": [],
   "source": [
    "import wget"
   ]
  },
  {
   "cell_type": "code",
   "execution_count": 3,
   "metadata": {},
   "outputs": [],
   "source": [
    "path = \"/usr/bin/chromedriver\""
   ]
  },
  {
   "cell_type": "code",
   "execution_count": 4,
   "metadata": {},
   "outputs": [],
   "source": [
    "driver = wd.Chrome(path)"
   ]
  },
  {
   "cell_type": "code",
   "execution_count": 5,
   "metadata": {},
   "outputs": [],
   "source": [
    "driver.get(\"https://ww5.dubbedanime.net/\")"
   ]
  },
  {
   "cell_type": "code",
   "execution_count": 6,
   "metadata": {},
   "outputs": [
    {
     "name": "stdout",
     "output_type": "stream",
     "text": [
      "Dubbed Anime | Watch Anime Online\n"
     ]
    }
   ],
   "source": [
    "print(driver.title)"
   ]
  },
  {
   "cell_type": "code",
   "execution_count": 7,
   "metadata": {},
   "outputs": [],
   "source": [
    "time.sleep(2)\n",
    "try:\n",
    "    driver.find_element_by_xpath(\"/html/body/nav/div/div[2]/button/i\").click()\n",
    "except:\n",
    "    driver.find_element_by_xpath(\"/html/body/nav/div/div[1]/button\").click()\n",
    "    time.sleep(1)\n",
    "    driver.find_element_by_xpath(\"/html/body/nav/div/div[2]/ul/li[8]/a\").click()\n",
    "    \n",
    "    "
   ]
  },
  {
   "cell_type": "code",
   "execution_count": 8,
   "metadata": {},
   "outputs": [],
   "source": [
    "search = driver.find_element_by_name(\"search\")"
   ]
  },
  {
   "cell_type": "code",
   "execution_count": 9,
   "metadata": {},
   "outputs": [],
   "source": [
    "search.send_keys(\"gold\")"
   ]
  },
  {
   "cell_type": "code",
   "execution_count": 10,
   "metadata": {},
   "outputs": [],
   "source": [
    "try:\n",
    "    driver.find_element_by_xpath(\"/html/body/div[6]/div/form/button/i\").click()\n",
    "except:\n",
    "    search.send_keys(Keys.RETURN)"
   ]
  },
  {
   "cell_type": "code",
   "execution_count": 11,
   "metadata": {},
   "outputs": [
    {
     "data": {
      "text/plain": [
       "True"
      ]
     },
     "execution_count": 11,
     "metadata": {},
     "output_type": "execute_result"
    }
   ],
   "source": [
    "driver.save_screenshot(\"test.png\")"
   ]
  },
  {
   "cell_type": "code",
   "execution_count": 52,
   "metadata": {},
   "outputs": [],
   "source": [
    "pic_link=[]\n",
    "for item in driver.find_elements_by_class_name(\"w-100\"):\n",
    "    html = item.get_attribute('outerHTML')\n",
    "    soup = bs(html,\"html.parser\")\n",
    "    if soup.find(\"img\"):\n",
    "        img = soup.find(\"img\")\n",
    "        pic_link.append(img[\"src\"])\n",
    "    "
   ]
  },
  {
   "cell_type": "code",
   "execution_count": 53,
   "metadata": {},
   "outputs": [
    {
     "data": {
      "text/plain": [
       "['https://cdn.animeapi.com/images/anime/796.jpg',\n",
       " 'https://cdn.animeapi.com/images/anime/1211.jpg',\n",
       " 'https://cdn.animeapi.com/images/anime/1236.jpg',\n",
       " 'https://cdn.animeapi.com/images/anime/1306.jpg',\n",
       " 'https://cdn.animeapi.com/images/anime/1345.jpg',\n",
       " 'https://cdn.animeapi.com/images/anime/1346.jpg',\n",
       " 'https://cdn.animeapi.com/images/anime/1586.jpg',\n",
       " 'https://cdn.animeapi.com/images/anime/1870.jpg',\n",
       " 'https://cdn.animeapi.com/images/anime/1894.jpg',\n",
       " 'https://cdn.animeapi.com/images/anime/1945.jpg',\n",
       " 'https://cdn.animeapi.com/images/anime/3158.jpg',\n",
       " 'https://cdn.animeapi.com/images/anime/3162.jpg',\n",
       " 'https://cdn.animeapi.com/images/anime/3539.jpg',\n",
       " 'https://cdn.animeapi.com/images/anime/3743.jpg',\n",
       " 'https://cdn.animeapi.com/images/anime/3763.jpg',\n",
       " 'https://cdn.animeapi.com/images/anime/3861.jpg',\n",
       " 'https://cdn.animeapi.com/images/anime/4466.jpg']"
      ]
     },
     "execution_count": 53,
     "metadata": {},
     "output_type": "execute_result"
    }
   ],
   "source": [
    "pic_link"
   ]
  },
  {
   "cell_type": "code",
   "execution_count": 32,
   "metadata": {},
   "outputs": [],
   "source": [
    "img = soup.find(\"img\")"
   ]
  },
  {
   "cell_type": "code",
   "execution_count": 56,
   "metadata": {},
   "outputs": [
    {
     "name": "stdout",
     "output_type": "stream",
     "text": [
      "https://cdn.animeapi.com/images/anime/796.jpg\n",
      "https://cdn.animeapi.com/images/anime/1211.jpg\n",
      "https://cdn.animeapi.com/images/anime/1236.jpg\n",
      "https://cdn.animeapi.com/images/anime/1306.jpg\n",
      "https://cdn.animeapi.com/images/anime/1345.jpg\n",
      "https://cdn.animeapi.com/images/anime/1346.jpg\n",
      "https://cdn.animeapi.com/images/anime/1586.jpg\n",
      "https://cdn.animeapi.com/images/anime/1870.jpg\n",
      "https://cdn.animeapi.com/images/anime/1894.jpg\n",
      "https://cdn.animeapi.com/images/anime/1945.jpg\n",
      "https://cdn.animeapi.com/images/anime/3158.jpg\n",
      "https://cdn.animeapi.com/images/anime/3162.jpg\n",
      "https://cdn.animeapi.com/images/anime/3539.jpg\n",
      "https://cdn.animeapi.com/images/anime/3743.jpg\n",
      "https://cdn.animeapi.com/images/anime/3763.jpg\n",
      "https://cdn.animeapi.com/images/anime/3861.jpg\n",
      "https://cdn.animeapi.com/images/anime/4466.jpg\n"
     ]
    }
   ],
   "source": [
    "for link in pic_link:\n",
    "    print(link)"
   ]
  }
 ],
 "metadata": {
  "kernelspec": {
   "display_name": "Python 3",
   "language": "python",
   "name": "python3"
  },
  "language_info": {
   "codemirror_mode": {
    "name": "ipython",
    "version": 3
   },
   "file_extension": ".py",
   "mimetype": "text/x-python",
   "name": "python",
   "nbconvert_exporter": "python",
   "pygments_lexer": "ipython3",
   "version": "3.8.5"
  }
 },
 "nbformat": 4,
 "nbformat_minor": 4
}
